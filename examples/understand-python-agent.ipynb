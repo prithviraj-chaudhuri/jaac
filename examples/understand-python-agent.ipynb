{
 "cells": [
  {
   "cell_type": "code",
   "execution_count": 1,
   "metadata": {},
   "outputs": [
    {
     "data": {
      "text/plain": [
       "True"
      ]
     },
     "execution_count": 1,
     "metadata": {},
     "output_type": "execute_result"
    }
   ],
   "source": [
    "import dotenv\n",
    "\n",
    "dotenv.load_dotenv()"
   ]
  },
  {
   "cell_type": "code",
   "execution_count": 2,
   "metadata": {},
   "outputs": [],
   "source": [
    "from langchain_openai import ChatOpenAI\n",
    "\n",
    "llm = ChatOpenAI(model=\"gpt-3.5-turbo\", temperature=0)"
   ]
  },
  {
   "cell_type": "code",
   "execution_count": 32,
   "metadata": {},
   "outputs": [],
   "source": [
    "from langchain.agents import tool\n",
    "from langchain_community.document_loaders.generic import GenericLoader\n",
    "from langchain.text_splitter import RecursiveCharacterTextSplitter\n",
    "from langchain_community.document_loaders.parsers import LanguageParser\n",
    "from langchain.text_splitter import Language\n",
    "from langchain_openai import OpenAIEmbeddings\n",
    "\n",
    "@tool\n",
    "def get_parsed_python_file(path: str) -> int:\n",
    "    \"\"\"Returns the content of the python code file\"\"\"\n",
    "    parser = LanguageParser(language=Language.PYTHON, parser_threshold=500)\n",
    "    loader = GenericLoader.from_filesystem(path, glob=\"**/*\", suffixes=[\".py\"], parser=parser)\n",
    "    documents = loader.load()\n",
    "    # splitter = RecursiveCharacterTextSplitter.from_language(language=Language.PYTHON)\n",
    "    # texts = splitter.split_documents(documents)\n",
    "    # embeddings = OpenAIEmbeddings()\n",
    "    # embedded_texts = [text.page_content for text in texts]\n",
    "    return documents[0].page_content\n",
    "\n",
    "get_parsed_python_file.invoke(\"../docs/sample.py\")\n",
    "\n",
    "tools = [get_parsed_python_file]"
   ]
  },
  {
   "cell_type": "code",
   "execution_count": 34,
   "metadata": {},
   "outputs": [],
   "source": [
    "from langchain_core.prompts import ChatPromptTemplate, MessagesPlaceholder\n",
    "\n",
    "prompt = ChatPromptTemplate.from_messages(\n",
    "    [\n",
    "        (\n",
    "            \"system\",\n",
    "            \"You are very powerful code documenting assistant, but don't know the user's source code\",\n",
    "        ),\n",
    "        (\"user\", \"{input}\"),\n",
    "        MessagesPlaceholder(variable_name=\"agent_scratchpad\"),\n",
    "    ]\n",
    ")"
   ]
  },
  {
   "cell_type": "code",
   "execution_count": 35,
   "metadata": {},
   "outputs": [],
   "source": [
    "from langchain.agents.format_scratchpad.openai_tools import (\n",
    "    format_to_openai_tool_messages,\n",
    ")\n",
    "from langchain.agents.output_parsers.openai_tools import OpenAIToolsAgentOutputParser\n",
    "\n",
    "llm_with_tools = llm.bind_tools(tools)\n",
    "\n",
    "agent = (\n",
    "    {\n",
    "        \"input\": lambda x: x[\"input\"],\n",
    "        \"agent_scratchpad\": lambda x: format_to_openai_tool_messages(\n",
    "            x[\"intermediate_steps\"]\n",
    "        ),\n",
    "    }\n",
    "    | prompt\n",
    "    | llm_with_tools\n",
    "    | OpenAIToolsAgentOutputParser()\n",
    ")"
   ]
  },
  {
   "cell_type": "code",
   "execution_count": 36,
   "metadata": {},
   "outputs": [],
   "source": [
    "from langchain.agents import AgentExecutor\n",
    "\n",
    "agent_executor = AgentExecutor(agent=agent, tools=tools, verbose=True)"
   ]
  },
  {
   "cell_type": "code",
   "execution_count": 38,
   "metadata": {},
   "outputs": [
    {
     "name": "stdout",
     "output_type": "stream",
     "text": [
      "\n",
      "\n",
      "\u001b[1m> Entering new AgentExecutor chain...\u001b[0m\n",
      "\u001b[32;1m\u001b[1;3m\n",
      "Invoking: `get_parsed_python_file` with `{'path': '../docs/sample.py'}`\n",
      "\n",
      "\n",
      "\u001b[0m\u001b[36;1m\u001b[1;3mdef addNumbers(a, b):\n",
      "    sum = a + b\n",
      "    return sum\u001b[0m\u001b[32;1m\u001b[1;3mThe `addNumbers` function takes two numbers as input and returns their sum.\n",
      "\n",
      "Parameters:\n",
      "- `a` (int): The first number.\n",
      "- `b` (int): The second number.\n",
      "\n",
      "Returns:\n",
      "- `sum` (int): The sum of `a` and `b`.\u001b[0m\n",
      "\n",
      "\u001b[1m> Finished chain.\u001b[0m\n"
     ]
    },
    {
     "data": {
      "text/plain": [
       "[{'actions': [OpenAIToolAgentAction(tool='get_parsed_python_file', tool_input={'path': '../docs/sample.py'}, log=\"\\nInvoking: `get_parsed_python_file` with `{'path': '../docs/sample.py'}`\\n\\n\\n\", message_log=[AIMessageChunk(content='', additional_kwargs={'tool_calls': [{'index': 0, 'id': 'call_hWJO7KMPuwfuhBoML0Q0mLz7', 'function': {'arguments': '{\\n  \"path\": \"../docs/sample.py\"\\n}', 'name': 'get_parsed_python_file'}, 'type': 'function'}]})], tool_call_id='call_hWJO7KMPuwfuhBoML0Q0mLz7')],\n",
       "  'messages': [AIMessageChunk(content='', additional_kwargs={'tool_calls': [{'index': 0, 'id': 'call_hWJO7KMPuwfuhBoML0Q0mLz7', 'function': {'arguments': '{\\n  \"path\": \"../docs/sample.py\"\\n}', 'name': 'get_parsed_python_file'}, 'type': 'function'}]})]},\n",
       " {'steps': [AgentStep(action=OpenAIToolAgentAction(tool='get_parsed_python_file', tool_input={'path': '../docs/sample.py'}, log=\"\\nInvoking: `get_parsed_python_file` with `{'path': '../docs/sample.py'}`\\n\\n\\n\", message_log=[AIMessageChunk(content='', additional_kwargs={'tool_calls': [{'index': 0, 'id': 'call_hWJO7KMPuwfuhBoML0Q0mLz7', 'function': {'arguments': '{\\n  \"path\": \"../docs/sample.py\"\\n}', 'name': 'get_parsed_python_file'}, 'type': 'function'}]})], tool_call_id='call_hWJO7KMPuwfuhBoML0Q0mLz7'), observation='def addNumbers(a, b):\\n    sum = a + b\\n    return sum')],\n",
       "  'messages': [FunctionMessage(content='def addNumbers(a, b):\\n    sum = a + b\\n    return sum', name='get_parsed_python_file')]},\n",
       " {'output': 'The `addNumbers` function takes two numbers as input and returns their sum.\\n\\nParameters:\\n- `a` (int): The first number.\\n- `b` (int): The second number.\\n\\nReturns:\\n- `sum` (int): The sum of `a` and `b`.',\n",
       "  'messages': [AIMessage(content='The `addNumbers` function takes two numbers as input and returns their sum.\\n\\nParameters:\\n- `a` (int): The first number.\\n- `b` (int): The second number.\\n\\nReturns:\\n- `sum` (int): The sum of `a` and `b`.')]}]"
      ]
     },
     "execution_count": 38,
     "metadata": {},
     "output_type": "execute_result"
    }
   ],
   "source": [
    "list(agent_executor.stream({\"input\": \"Write a docstring for the source code defined in the file ../docs/sample.py\"}))"
   ]
  },
  {
   "cell_type": "code",
   "execution_count": 41,
   "metadata": {},
   "outputs": [
    {
     "name": "stdout",
     "output_type": "stream",
     "text": [
      "\n",
      "\n",
      "\u001b[1m> Entering new AgentExecutor chain...\u001b[0m\n",
      "\u001b[32;1m\u001b[1;3m\n",
      "Invoking: `get_parsed_python_file` with `{'path': '../docs/sample.py'}`\n",
      "\n",
      "\n",
      "\u001b[0m\u001b[36;1m\u001b[1;3mdef addNumbers(a, b):\n",
      "    sum = a + b\n",
      "    return sum\u001b[0m\u001b[32;1m\u001b[1;3m## File: sample.py\n",
      "\n",
      "This file contains a function `addNumbers` that takes two numbers as input and returns their sum.\n",
      "\n",
      "### Function: addNumbers(a, b)\n",
      "\n",
      "This function takes two parameters `a` and `b`, which are numbers. It calculates the sum of `a` and `b` and returns the result.\n",
      "\n",
      "#### Parameters\n",
      "\n",
      "- `a` (number): The first number.\n",
      "- `b` (number): The second number.\n",
      "\n",
      "#### Returns\n",
      "\n",
      "- `sum` (number): The sum of `a` and `b`.\u001b[0m\n",
      "\n",
      "\u001b[1m> Finished chain.\u001b[0m\n"
     ]
    },
    {
     "data": {
      "text/plain": [
       "[{'actions': [OpenAIToolAgentAction(tool='get_parsed_python_file', tool_input={'path': '../docs/sample.py'}, log=\"\\nInvoking: `get_parsed_python_file` with `{'path': '../docs/sample.py'}`\\n\\n\\n\", message_log=[AIMessageChunk(content='', additional_kwargs={'tool_calls': [{'index': 0, 'id': 'call_5PqgsAwpIF2mti39JapOKlBf', 'function': {'arguments': '{\\n  \"path\": \"../docs/sample.py\"\\n}', 'name': 'get_parsed_python_file'}, 'type': 'function'}]})], tool_call_id='call_5PqgsAwpIF2mti39JapOKlBf')],\n",
       "  'messages': [AIMessageChunk(content='', additional_kwargs={'tool_calls': [{'index': 0, 'id': 'call_5PqgsAwpIF2mti39JapOKlBf', 'function': {'arguments': '{\\n  \"path\": \"../docs/sample.py\"\\n}', 'name': 'get_parsed_python_file'}, 'type': 'function'}]})]},\n",
       " {'steps': [AgentStep(action=OpenAIToolAgentAction(tool='get_parsed_python_file', tool_input={'path': '../docs/sample.py'}, log=\"\\nInvoking: `get_parsed_python_file` with `{'path': '../docs/sample.py'}`\\n\\n\\n\", message_log=[AIMessageChunk(content='', additional_kwargs={'tool_calls': [{'index': 0, 'id': 'call_5PqgsAwpIF2mti39JapOKlBf', 'function': {'arguments': '{\\n  \"path\": \"../docs/sample.py\"\\n}', 'name': 'get_parsed_python_file'}, 'type': 'function'}]})], tool_call_id='call_5PqgsAwpIF2mti39JapOKlBf'), observation='def addNumbers(a, b):\\n    sum = a + b\\n    return sum')],\n",
       "  'messages': [FunctionMessage(content='def addNumbers(a, b):\\n    sum = a + b\\n    return sum', name='get_parsed_python_file')]},\n",
       " {'output': '## File: sample.py\\n\\nThis file contains a function `addNumbers` that takes two numbers as input and returns their sum.\\n\\n### Function: addNumbers(a, b)\\n\\nThis function takes two parameters `a` and `b`, which are numbers. It calculates the sum of `a` and `b` and returns the result.\\n\\n#### Parameters\\n\\n- `a` (number): The first number.\\n- `b` (number): The second number.\\n\\n#### Returns\\n\\n- `sum` (number): The sum of `a` and `b`.',\n",
       "  'messages': [AIMessage(content='## File: sample.py\\n\\nThis file contains a function `addNumbers` that takes two numbers as input and returns their sum.\\n\\n### Function: addNumbers(a, b)\\n\\nThis function takes two parameters `a` and `b`, which are numbers. It calculates the sum of `a` and `b` and returns the result.\\n\\n#### Parameters\\n\\n- `a` (number): The first number.\\n- `b` (number): The second number.\\n\\n#### Returns\\n\\n- `sum` (number): The sum of `a` and `b`.')]}]"
      ]
     },
     "execution_count": 41,
     "metadata": {},
     "output_type": "execute_result"
    }
   ],
   "source": [
    "list(agent_executor.stream({\"input\": \"Write a docs for the file ../docs/sample.py\"}))"
   ]
  }
 ],
 "metadata": {
  "kernelspec": {
   "display_name": "venv",
   "language": "python",
   "name": "python3"
  },
  "language_info": {
   "codemirror_mode": {
    "name": "ipython",
    "version": 3
   },
   "file_extension": ".py",
   "mimetype": "text/x-python",
   "name": "python",
   "nbconvert_exporter": "python",
   "pygments_lexer": "ipython3",
   "version": "3.10.10"
  }
 },
 "nbformat": 4,
 "nbformat_minor": 2
}
