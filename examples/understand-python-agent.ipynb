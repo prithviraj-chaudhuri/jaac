{
 "cells": [
  {
   "cell_type": "markdown",
   "metadata": {},
   "source": [
    "# Understand python code agent using OpenAI"
   ]
  },
  {
   "cell_type": "code",
   "execution_count": 27,
   "metadata": {},
   "outputs": [
    {
     "data": {
      "text/plain": [
       "True"
      ]
     },
     "execution_count": 27,
     "metadata": {},
     "output_type": "execute_result"
    }
   ],
   "source": [
    "import dotenv\n",
    "\n",
    "dotenv.load_dotenv()"
   ]
  },
  {
   "cell_type": "code",
   "execution_count": 28,
   "metadata": {},
   "outputs": [],
   "source": [
    "from langchain_openai import ChatOpenAI\n",
    "\n",
    "llm = ChatOpenAI(model=\"gpt-3.5-turbo\", temperature=0)"
   ]
  },
  {
   "cell_type": "code",
   "execution_count": 29,
   "metadata": {},
   "outputs": [],
   "source": [
    "from langchain.agents import tool\n",
    "from langchain_community.document_loaders.generic import GenericLoader\n",
    "from langchain.text_splitter import RecursiveCharacterTextSplitter\n",
    "from langchain_community.document_loaders.parsers import LanguageParser\n",
    "from langchain.text_splitter import Language\n",
    "from langchain_openai import OpenAIEmbeddings\n",
    "\n",
    "@tool\n",
    "def get_parsed_python_file(path: str) -> int:\n",
    "    \"\"\"Python Parser Tool: Returns the content of the python code file\"\"\"\n",
    "    parser = LanguageParser(language=Language.PYTHON, parser_threshold=500)\n",
    "    loader = GenericLoader.from_filesystem(path, glob=\"**/*\", suffixes=[\".py\"], parser=parser)\n",
    "    documents = loader.load()\n",
    "    return str(documents[0].page_content)\n",
    "\n",
    "get_parsed_python_file.invoke(\"../docs/sample.py\")\n",
    "\n",
    "tools = [get_parsed_python_file]"
   ]
  },
  {
   "cell_type": "code",
   "execution_count": 30,
   "metadata": {},
   "outputs": [],
   "source": [
    "from langchain_core.prompts import ChatPromptTemplate, MessagesPlaceholder\n",
    "\n",
    "prompt = ChatPromptTemplate.from_messages(\n",
    "    [\n",
    "        (\n",
    "            \"system\",\n",
    "            \"You are very powerful code documenting assistant, but don't know the user's source code\",\n",
    "        ),\n",
    "        (\"user\", \"{input}\"),\n",
    "        MessagesPlaceholder(variable_name=\"agent_scratchpad\"),\n",
    "    ]\n",
    ")"
   ]
  },
  {
   "cell_type": "code",
   "execution_count": 31,
   "metadata": {},
   "outputs": [],
   "source": [
    "from langchain.agents.format_scratchpad.openai_tools import (\n",
    "    format_to_openai_tool_messages,\n",
    ")\n",
    "from langchain.agents.output_parsers.openai_tools import OpenAIToolsAgentOutputParser\n",
    "\n",
    "llm_with_tools = llm.bind_tools(tools)\n",
    "\n",
    "agent = (\n",
    "    {\n",
    "        \"input\": lambda x: x[\"input\"],\n",
    "        \"agent_scratchpad\": lambda x: format_to_openai_tool_messages(\n",
    "            x[\"intermediate_steps\"]\n",
    "        ),\n",
    "    }\n",
    "    | prompt\n",
    "    | llm_with_tools\n",
    "    | OpenAIToolsAgentOutputParser()\n",
    ")"
   ]
  },
  {
   "cell_type": "code",
   "execution_count": 32,
   "metadata": {},
   "outputs": [],
   "source": [
    "from langchain.agents import AgentExecutor\n",
    "\n",
    "agent_executor = AgentExecutor(agent=agent, tools=tools, verbose=True)"
   ]
  },
  {
   "cell_type": "code",
   "execution_count": 33,
   "metadata": {},
   "outputs": [],
   "source": [
    "# list(agent_executor.stream({\"input\": \"Write a docstring for the source code defined in the file ../docs/sample.py\"}))"
   ]
  },
  {
   "cell_type": "code",
   "execution_count": 34,
   "metadata": {},
   "outputs": [],
   "source": [
    "# list(agent_executor.stream({\"input\": \"Write a docs for the file ../docs/sample.py\"}))"
   ]
  },
  {
   "cell_type": "markdown",
   "metadata": {},
   "source": [
    "# Understand Python using LLama2"
   ]
  },
  {
   "cell_type": "code",
   "execution_count": 35,
   "metadata": {},
   "outputs": [
    {
     "name": "stderr",
     "output_type": "stream",
     "text": [
      "llama_model_loader: loaded meta data with 18 key-value pairs and 291 tensors from ../models/nous-hermes-llama-2-7b.q4_0.gguf (version GGUF V2)\n",
      "llama_model_loader: Dumping metadata keys/values. Note: KV overrides do not apply in this output.\n",
      "llama_model_loader: - kv   0:                       general.architecture str              = llama\n",
      "llama_model_loader: - kv   1:                               general.name str              = nous-hermes-llama-2-7b.ggmlv3.q4_0.bin\n",
      "llama_model_loader: - kv   2:                        general.description str              = converted from legacy GGJTv3 format\n",
      "llama_model_loader: - kv   3:                       llama.context_length u32              = 2048\n",
      "llama_model_loader: - kv   4:                     llama.embedding_length u32              = 4096\n",
      "llama_model_loader: - kv   5:                          llama.block_count u32              = 32\n",
      "llama_model_loader: - kv   6:                  llama.feed_forward_length u32              = 11008\n",
      "llama_model_loader: - kv   7:                 llama.rope.dimension_count u32              = 128\n",
      "llama_model_loader: - kv   8:                 llama.attention.head_count u32              = 32\n",
      "llama_model_loader: - kv   9:              llama.attention.head_count_kv u32              = 32\n",
      "llama_model_loader: - kv  10:     llama.attention.layer_norm_rms_epsilon f32              = 0.000005\n",
      "llama_model_loader: - kv  11:                       tokenizer.ggml.model str              = llama\n",
      "llama_model_loader: - kv  12:                      tokenizer.ggml.tokens arr[str,32000]   = [\"<unk>\", \"<s>\", \"</s>\", \"<0x00>\", \"<...\n",
      "llama_model_loader: - kv  13:                      tokenizer.ggml.scores arr[f32,32000]   = [0.000000, 0.000000, 0.000000, 0.0000...\n",
      "llama_model_loader: - kv  14:                  tokenizer.ggml.token_type arr[i32,32000]   = [2, 3, 3, 6, 6, 6, 6, 6, 6, 6, 6, 6, ...\n",
      "llama_model_loader: - kv  15:            tokenizer.ggml.unknown_token_id u32              = 0\n",
      "llama_model_loader: - kv  16:                tokenizer.ggml.bos_token_id u32              = 1\n",
      "llama_model_loader: - kv  17:                tokenizer.ggml.eos_token_id u32              = 2\n",
      "llama_model_loader: - type  f32:   65 tensors\n",
      "llama_model_loader: - type q4_0:  226 tensors\n",
      "llm_load_vocab: special tokens definition check successful ( 259/32000 ).\n",
      "llm_load_print_meta: format           = GGUF V2\n",
      "llm_load_print_meta: arch             = llama\n",
      "llm_load_print_meta: vocab type       = SPM\n",
      "llm_load_print_meta: n_vocab          = 32000\n",
      "llm_load_print_meta: n_merges         = 0\n",
      "llm_load_print_meta: n_ctx_train      = 2048\n",
      "llm_load_print_meta: n_embd           = 4096\n",
      "llm_load_print_meta: n_head           = 32\n",
      "llm_load_print_meta: n_head_kv        = 32\n",
      "llm_load_print_meta: n_layer          = 32\n",
      "llm_load_print_meta: n_rot            = 128\n",
      "llm_load_print_meta: n_embd_head_k    = 128\n",
      "llm_load_print_meta: n_embd_head_v    = 128\n",
      "llm_load_print_meta: n_gqa            = 1\n",
      "llm_load_print_meta: n_embd_k_gqa     = 4096\n",
      "llm_load_print_meta: n_embd_v_gqa     = 4096\n",
      "llm_load_print_meta: f_norm_eps       = 0.0e+00\n",
      "llm_load_print_meta: f_norm_rms_eps   = 5.0e-06\n",
      "llm_load_print_meta: f_clamp_kqv      = 0.0e+00\n",
      "llm_load_print_meta: f_max_alibi_bias = 0.0e+00\n",
      "llm_load_print_meta: n_ff             = 11008\n",
      "llm_load_print_meta: n_expert         = 0\n",
      "llm_load_print_meta: n_expert_used    = 0\n",
      "llm_load_print_meta: rope scaling     = linear\n",
      "llm_load_print_meta: freq_base_train  = 10000.0\n",
      "llm_load_print_meta: freq_scale_train = 1\n",
      "llm_load_print_meta: n_yarn_orig_ctx  = 2048\n",
      "llm_load_print_meta: rope_finetuned   = unknown\n",
      "llm_load_print_meta: model type       = 7B\n",
      "llm_load_print_meta: model ftype      = Q4_0 (guessed)\n",
      "llm_load_print_meta: model params     = 6.74 B\n",
      "llm_load_print_meta: model size       = 3.53 GiB (4.50 BPW) \n",
      "llm_load_print_meta: general.name     = nous-hermes-llama-2-7b.ggmlv3.q4_0.bin\n",
      "llm_load_print_meta: BOS token        = 1 '<s>'\n",
      "llm_load_print_meta: EOS token        = 2 '</s>'\n",
      "llm_load_print_meta: UNK token        = 0 '<unk>'\n",
      "llm_load_print_meta: LF token         = 13 '<0x0A>'\n",
      "llm_load_tensors: ggml ctx size =    0.11 MiB\n",
      "llm_load_tensors: offloading 0 repeating layers to GPU\n",
      "llm_load_tensors: offloaded 0/33 layers to GPU\n",
      "llm_load_tensors:        CPU buffer size =  3615.64 MiB\n",
      "...................................................................................................\n",
      "llama_new_context_with_model: n_ctx      = 4096\n",
      "llama_new_context_with_model: freq_base  = 10000.0\n",
      "llama_new_context_with_model: freq_scale = 1\n",
      "llama_kv_cache_init:        CPU KV buffer size =  2048.00 MiB\n",
      "llama_new_context_with_model: KV self size  = 2048.00 MiB, K (f16): 1024.00 MiB, V (f16): 1024.00 MiB\n",
      "llama_new_context_with_model:        CPU input buffer size   =     0.27 MiB\n",
      "llama_new_context_with_model:        CPU compute buffer size =     4.50 MiB\n",
      "llama_new_context_with_model: graph splits (measure): 1\n",
      "AVX = 0 | AVX_VNNI = 0 | AVX2 = 0 | AVX512 = 0 | AVX512_VBMI = 0 | AVX512_VNNI = 0 | FMA = 0 | NEON = 1 | ARM_FMA = 1 | F16C = 0 | FP16_VA = 1 | WASM_SIMD = 0 | BLAS = 1 | SSE3 = 0 | SSSE3 = 0 | VSX = 0 | MATMUL_INT8 = 0 | \n",
      "Model metadata: {'tokenizer.ggml.eos_token_id': '2', 'tokenizer.ggml.bos_token_id': '1', 'tokenizer.ggml.unknown_token_id': '0', 'tokenizer.ggml.model': 'llama', 'llama.attention.head_count_kv': '32', 'llama.context_length': '2048', 'llama.attention.head_count': '32', 'general.description': 'converted from legacy GGJTv3 format', 'llama.rope.dimension_count': '128', 'llama.feed_forward_length': '11008', 'llama.block_count': '32', 'llama.embedding_length': '4096', 'general.architecture': 'llama', 'llama.attention.layer_norm_rms_epsilon': '0.000005', 'general.name': 'nous-hermes-llama-2-7b.ggmlv3.q4_0.bin'}\n"
     ]
    }
   ],
   "source": [
    "# from langchain.llms import CTransformers\n",
    "# from llama_cpp import Llama\n",
    "from langchain_community.llms import LlamaCpp\n",
    "from langchain.callbacks.manager import CallbackManager\n",
    "from langchain.callbacks.streaming_stdout import StreamingStdOutCallbackHandler\n",
    "\n",
    "# llm = CTransformers(model='../models/llama-2-7b-chat.ggmlv3.q8_0.bin', model_type='llama', config={'max_new_tokens': 1024})\n",
    "# llm = Llama(model_path=\"../models/Nous-Hermes-Llama2-13b-q8_0.gguf\", n_ctx=4096)\n",
    "\n",
    "callback_manager = CallbackManager([StreamingStdOutCallbackHandler()])\n",
    "\n",
    "llm = LlamaCpp(\n",
    "    model_path=\"../models/nous-hermes-llama-2-7b.q4_0.gguf\",\n",
    "    temperature=0,\n",
    "    max_tokens=2000,\n",
    "    top_p=1,\n",
    "    callback_manager=callback_manager,\n",
    "    n_ctx=4096,\n",
    "    verbose=True,  # Verbose is required to pass to the callback manager\n",
    ")"
   ]
  },
  {
   "cell_type": "code",
   "execution_count": 50,
   "metadata": {},
   "outputs": [],
   "source": [
    "import re\n",
    "from langchain.prompts import StringPromptTemplate, PromptTemplate\n",
    "from typing import List\n",
    "\n",
    "template = \"\"\"Below is an instruction that describes a task, paired with an input that provides further context. Write a response that appropriately completes the request.\n",
    "\n",
    "### Instruction:\n",
    "Answer the following questions as best you can. You have access to the following tools:\n",
    "\n",
    "get_parsed_python_file: A tool to load python files from the local source code. The input is the path to the python file\n",
    "\n",
    "Strictly use the following format:\n",
    "\n",
    "Question: the input question you must answer\n",
    "Thought: you should always think about what to do\n",
    "Action: the action to take, should be one of [Python Parser Tool]\n",
    "Action Input: the input to the action, should be the file needed to generate documentation for.\n",
    "Observation: the result of the action\n",
    "... (this Thought/Action/Action Input/Observation can repeat N times)\n",
    "Thought: I now know the final answer\n",
    "Final Answer: the final answer to the original input question\n",
    "\n",
    "For examples:\n",
    "Question: Write me a documentation of the python file ../test.py\n",
    "Thought: First, I need to read the python file ../test.py\n",
    "Action: get_parsed_python_file\n",
    "Action Input: ../test.py\n",
    "Observation: def addNumbers(a, b):\n",
    "                 sum = a + b\n",
    "                 return sum\n",
    "Thought: I should generate documentation of this code.\n",
    "Action: Generate the documentation of the code\n",
    "Action Input: def addNumbers(a, b):\n",
    "                 sum = a + b\n",
    "                 return sum\n",
    "Observation: This file contains two functions:\n",
    "\n",
    "            ### addNumbers(a, b)\n",
    "\n",
    "            This function takes two parameters `a` and `b` and returns their sum.\n",
    "\n",
    "            #### Parameters\n",
    "\n",
    "            - `a` (int): The first number.\n",
    "Thought: I now know the final answer.\n",
    "Final Answer: This file contains two functions:\n",
    "\n",
    "            ### addNumbers(a, b)\n",
    "\n",
    "            This function takes two parameters `a` and `b` and returns their sum.\n",
    "\n",
    "            #### Parameters\n",
    "\n",
    "            - `a` (int): The first number.\n",
    "\n",
    "### Input:\n",
    "{input}\n",
    "\n",
    "### Response:\n",
    "{agent_scratchpad}\"\"\"\n",
    "\n",
    "temp_Ins = \"\"\"Below is an instruction that describes a task, paired with an input that provides further context. Write a response that appropriately completes the request.\n",
    "\n",
    "### Instruction:\n",
    "Question: {thought}\n",
    "Query: {query}\n",
    "Observation: {observation}\n",
    "\n",
    "### Input:\n",
    "Make a short summary of useful information from the result observation that is related to the question.\n",
    "\n",
    "### Response:\"\"\"\n",
    "\n",
    "prompt_Ins = PromptTemplate(\n",
    "    input_variables=[\"thought\", \"query\", \"observation\"],\n",
    "    template=temp_Ins,\n",
    ")\n",
    "\n",
    "\n",
    "class CustomPromptTemplate(StringPromptTemplate):\n",
    "    \"\"\"Schema to represent a prompt for an LLM.\n",
    "\n",
    "    Example:\n",
    "        .. code-block:: python\n",
    "\n",
    "            from langchain import PromptTemplate\n",
    "            prompt = PromptTemplate(input_variables=[\"foo\"], template=\"Say {foo}\")\n",
    "    \"\"\"\n",
    "\n",
    "    input_variables: List[str]\n",
    "    \"\"\"A list of the names of the variables the prompt template expects.\"\"\"\n",
    "\n",
    "    template: str\n",
    "    \"\"\"The prompt template.\"\"\"\n",
    "\n",
    "    template_format: str = \"f-string\"\n",
    "    \"\"\"The format of the prompt template. Options are: 'f-string', 'jinja2'.\"\"\"\n",
    "\n",
    "    validate_template: bool = False\n",
    "    \"\"\"Whether or not to try validating the template.\"\"\"\n",
    "    \n",
    "\n",
    "    def format(self, **kwargs) -> str:\n",
    "        # Get the intermediate steps (AgentAction, Observation tuples)\n",
    "        # Format them in a particular way\n",
    "        intermediate_steps = kwargs.pop(\"intermediate_steps\")\n",
    "        thoughts = \"\"\n",
    "        if len(intermediate_steps) > 0:\n",
    "            regex = r\"Thought\\s*\\d*\\s*:(.*?)\\nAction\\s*\\d*\\s*:(.*?)\\nAction\\s*\\d*\\s*Input\\s*\\d*\\s*:[\\s]*(.*)\"\n",
    "            text_match = intermediate_steps[-1][0].log\n",
    "            if len(intermediate_steps) > 1:\n",
    "                text_match = 'Thought: ' + text_match\n",
    "\n",
    "\n",
    "            # print(intermediate_steps)\n",
    "            \n",
    "            \n",
    "            match = re.search(regex, text_match, re.DOTALL)            \n",
    "            my_list = list(intermediate_steps[-1])\n",
    "\n",
    "            # print(\"Observation\")\n",
    "            # print(my_list[1])\n",
    "\n",
    "            p_INS_temp = prompt_Ins.format(thought=match.group(1).strip(), query=match.group(3).strip(), observation=my_list[1])\n",
    "            my_list[1] = llm(p_INS_temp)\n",
    "            my_tuple = tuple(my_list)            \n",
    "            intermediate_steps[-1] = my_tuple\n",
    "            \n",
    "        for action, observation in intermediate_steps:\n",
    "            thoughts += action.log\n",
    "            thoughts += f\" {observation}\\nThought:\"\n",
    "        # Set the agent_scratchpad variable to that value\n",
    "        kwargs[\"agent_scratchpad\"] = thoughts\n",
    "        return self.template.format(**kwargs)\n",
    "    \n",
    "prompt = CustomPromptTemplate(input_variables=[\"input\", \"intermediate_steps\"],\n",
    "                              template=template,validate_template=False)"
   ]
  },
  {
   "cell_type": "code",
   "execution_count": 52,
   "metadata": {},
   "outputs": [],
   "source": [
    "from langchain.agents import AgentOutputParser\n",
    "from langchain.schema import AgentAction, AgentFinish\n",
    "from typing import Union, Any\n",
    "\n",
    "class CustomOutputParser(AgentOutputParser):\n",
    "    \n",
    "    def parse(self, llm_output: str) -> Union[AgentAction, AgentFinish]:\n",
    "        # Check if agent should finish\n",
    "        if \"Final Answer:\" in llm_output:\n",
    "            return AgentFinish(\n",
    "                # Return values is generally always a dictionary with a single `output` key\n",
    "                # It is not recommended to try anything else at the moment :)\n",
    "                return_values={\"output\": llm_output.split(\"Final Answer:\")[-1].strip()},\n",
    "                log=llm_output,\n",
    "            )\n",
    "        # Parse out the action and action input\n",
    "        regex = r\"Action\\s*\\d*\\s*:(.*?)\\nAction\\s*\\d*\\s*Input\\s*\\d*\\s*:[\\s]*(.*)\"\n",
    "        match = re.search(regex, llm_output, re.DOTALL)\n",
    "        if not match:\n",
    "            raise ValueError(f\"Could not parse LLM output: `{llm_output}`\")\n",
    "        action = match.group(1).strip()\n",
    "        action_input = match.group(2)\n",
    "        # Return the action and action input\n",
    "        return AgentAction(tool=action, tool_input=action_input.strip(\" \").strip('\"'), log=llm_output)\n",
    "output_parser = CustomOutputParser()"
   ]
  },
  {
   "cell_type": "code",
   "execution_count": 53,
   "metadata": {},
   "outputs": [],
   "source": [
    "from langchain import LLMChain\n",
    "from langchain.agents import LLMSingleActionAgent\n",
    "\n",
    "llm_chain = LLMChain(llm=llm, prompt=prompt)\n",
    "agent = LLMSingleActionAgent(\n",
    "    llm_chain=llm_chain, \n",
    "    output_parser=output_parser,\n",
    "    stop=[\"\\nObservation:\", \"\\nObservations:\"], \n",
    "    allowed_tools=tools\n",
    ")\n",
    "agent_executor = AgentExecutor.from_agent_and_tools(agent=agent, tools=tools, verbose=True)"
   ]
  },
  {
   "cell_type": "code",
   "execution_count": 54,
   "metadata": {},
   "outputs": [
    {
     "name": "stdout",
     "output_type": "stream",
     "text": [
      "\n",
      "\n",
      "\u001b[1m> Entering new AgentExecutor chain...\u001b[0m\n"
     ]
    },
    {
     "name": "stderr",
     "output_type": "stream",
     "text": [
      "Llama.generate: prefix-match hit\n"
     ]
    },
    {
     "name": "stdout",
     "output_type": "stream",
     "text": [
      " Thought: First, I need to read the python file ../docs/sample.py\n",
      "Action: get_parsed_python_file\n",
      "Action Input: ../docs/sample.py"
     ]
    },
    {
     "name": "stderr",
     "output_type": "stream",
     "text": [
      "\n",
      "llama_print_timings:        load time =     973.64 ms\n",
      "llama_print_timings:      sample time =       3.81 ms /    44 runs   (    0.09 ms per token, 11545.53 tokens per second)\n",
      "llama_print_timings: prompt eval time =   20219.57 ms /   397 tokens (   50.93 ms per token,    19.63 tokens per second)\n",
      "llama_print_timings:        eval time =    3321.98 ms /    43 runs   (   77.26 ms per token,    12.94 tokens per second)\n",
      "llama_print_timings:       total time =   23663.62 ms /   440 tokens\n",
      "/Users/prithvirajchaudhuri/Desktop/Other/Projects/jaac/venv/lib/python3.10/site-packages/langchain_core/_api/deprecation.py:117: LangChainDeprecationWarning: The function `__call__` was deprecated in LangChain 0.1.7 and will be removed in 0.2.0. Use invoke instead.\n",
      "  warn_deprecated(\n",
      "Llama.generate: prefix-match hit\n"
     ]
    },
    {
     "name": "stdout",
     "output_type": "stream",
     "text": [
      "\u001b[32;1m\u001b[1;3m Thought: First, I need to read the python file ../docs/sample.py\n",
      "Action: get_parsed_python_file\n",
      "Action Input: ../docs/sample.py\u001b[0m\n",
      "\n",
      "Observation:\u001b[36;1m\u001b[1;3mimport os\n",
      "\n",
      "def addNumbers(a, b):\n",
      "    sum = a + b\n",
      "    return sum\n",
      "\n",
      "def printEnv():\n",
      "    print(os.getenv(\"TEST\"))\u001b[0m\n"
     ]
    },
    {
     "name": "stderr",
     "output_type": "stream",
     "text": [
      "\n",
      "llama_print_timings:        load time =     973.64 ms\n",
      "llama_print_timings:      sample time =       0.11 ms /     1 runs   (    0.11 ms per token,  9345.79 tokens per second)\n",
      "llama_print_timings: prompt eval time =    5055.19 ms /   102 tokens (   49.56 ms per token,    20.18 tokens per second)\n",
      "llama_print_timings:        eval time =       0.00 ms /     1 runs   (    0.00 ms per token,      inf tokens per second)\n",
      "llama_print_timings:       total time =    5068.42 ms /   103 tokens\n",
      "Llama.generate: prefix-match hit\n"
     ]
    },
    {
     "name": "stdout",
     "output_type": "stream",
     "text": [
      " I should generate documentation of this code.\n",
      "Action: Generate the documentation of the code\n",
      "Action Input: def addNumbers(a, b):\n",
      "                 sum = a + b\n",
      "                 return sum"
     ]
    },
    {
     "name": "stderr",
     "output_type": "stream",
     "text": [
      "\n",
      "llama_print_timings:        load time =     973.64 ms\n",
      "llama_print_timings:      sample time =       4.01 ms /    46 runs   (    0.09 ms per token, 11465.60 tokens per second)\n",
      "llama_print_timings: prompt eval time =   26460.24 ms /   499 tokens (   53.03 ms per token,    18.86 tokens per second)\n",
      "llama_print_timings:        eval time =    3535.85 ms /    45 runs   (   78.57 ms per token,    12.73 tokens per second)\n",
      "llama_print_timings:       total time =   30141.02 ms /   544 tokens\n",
      "Llama.generate: prefix-match hit\n"
     ]
    },
    {
     "name": "stdout",
     "output_type": "stream",
     "text": [
      "\u001b[32;1m\u001b[1;3m I should generate documentation of this code.\n",
      "Action: Generate the documentation of the code\n",
      "Action Input: def addNumbers(a, b):\n",
      "                 sum = a + b\n",
      "                 return sum\u001b[0m\n",
      "\n",
      "Observation:Generate the documentation of the code is not a valid tool, try one of [get_parsed_python_file].\n"
     ]
    },
    {
     "name": "stderr",
     "output_type": "stream",
     "text": [
      "\n",
      "llama_print_timings:        load time =     973.64 ms\n",
      "llama_print_timings:      sample time =       0.13 ms /     1 runs   (    0.13 ms per token,  7936.51 tokens per second)\n",
      "llama_print_timings: prompt eval time =    4863.15 ms /    94 tokens (   51.74 ms per token,    19.33 tokens per second)\n",
      "llama_print_timings:        eval time =       0.00 ms /     1 runs   (    0.00 ms per token,      inf tokens per second)\n",
      "llama_print_timings:       total time =    4876.01 ms /    95 tokens\n",
      "Llama.generate: prefix-match hit\n"
     ]
    },
    {
     "name": "stdout",
     "output_type": "stream",
     "text": [
      " This file contains one function:\n",
      "\n",
      "            ### addNumbers(a, b)\n",
      "\n",
      "            This function takes two parameters `a` and `b` and returns their sum.\n",
      "\n",
      "            #### Parameters\n",
      "\n",
      "            - `a` (int): The first number.\n",
      "Thought: I now know the final answer.\n",
      "Final Answer: This file contains one function:\n",
      "\n",
      "            ### addNumbers(a, b)\n",
      "\n",
      "            This function takes two parameters `a` and `b` and returns their sum.\n",
      "\n",
      "            #### Parameters\n",
      "\n",
      "            - `a` (int): The first number."
     ]
    },
    {
     "name": "stderr",
     "output_type": "stream",
     "text": [
      "\n",
      "llama_print_timings:        load time =     973.64 ms\n",
      "llama_print_timings:      sample time =      11.77 ms /   130 runs   (    0.09 ms per token, 11041.28 tokens per second)\n",
      "llama_print_timings: prompt eval time =   28840.09 ms /   544 tokens (   53.01 ms per token,    18.86 tokens per second)\n",
      "llama_print_timings:        eval time =   10543.56 ms /   130 runs   (   81.10 ms per token,    12.33 tokens per second)\n",
      "llama_print_timings:       total time =   39701.37 ms /   674 tokens\n"
     ]
    },
    {
     "name": "stdout",
     "output_type": "stream",
     "text": [
      "\u001b[32;1m\u001b[1;3m This file contains one function:\n",
      "\n",
      "            ### addNumbers(a, b)\n",
      "\n",
      "            This function takes two parameters `a` and `b` and returns their sum.\n",
      "\n",
      "            #### Parameters\n",
      "\n",
      "            - `a` (int): The first number.\n",
      "Thought: I now know the final answer.\n",
      "Final Answer: This file contains one function:\n",
      "\n",
      "            ### addNumbers(a, b)\n",
      "\n",
      "            This function takes two parameters `a` and `b` and returns their sum.\n",
      "\n",
      "            #### Parameters\n",
      "\n",
      "            - `a` (int): The first number.\u001b[0m\n",
      "\n",
      "\u001b[1m> Finished chain.\u001b[0m\n"
     ]
    },
    {
     "data": {
      "text/plain": [
       "'This file contains one function:\\n\\n            ### addNumbers(a, b)\\n\\n            This function takes two parameters `a` and `b` and returns their sum.\\n\\n            #### Parameters\\n\\n            - `a` (int): The first number.'"
      ]
     },
     "execution_count": 54,
     "metadata": {},
     "output_type": "execute_result"
    }
   ],
   "source": [
    "agent_executor.run(\"Write docs for the file ../docs/sample.py\")"
   ]
  }
 ],
 "metadata": {
  "kernelspec": {
   "display_name": "venv",
   "language": "python",
   "name": "python3"
  },
  "language_info": {
   "codemirror_mode": {
    "name": "ipython",
    "version": 3
   },
   "file_extension": ".py",
   "mimetype": "text/x-python",
   "name": "python",
   "nbconvert_exporter": "python",
   "pygments_lexer": "ipython3",
   "version": "3.10.10"
  }
 },
 "nbformat": 4,
 "nbformat_minor": 2
}
